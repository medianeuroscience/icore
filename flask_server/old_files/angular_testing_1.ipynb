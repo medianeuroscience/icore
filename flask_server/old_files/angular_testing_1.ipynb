{
 "cells": [
  {
   "cell_type": "code",
   "execution_count": 1,
   "metadata": {},
   "outputs": [],
   "source": [
    "import os\n",
    "import sys\n",
    "import findspark\n",
    "findspark.init()"
   ]
  },
  {
   "cell_type": "code",
   "execution_count": 2,
   "metadata": {},
   "outputs": [],
   "source": [
    "os.environ['PYSPARK_SUBMIT_ARGS'] = '--packages com.datastax.spark:spark-cassandra-connector_2.11:2.3.0 --conf spark.cassandra.connection.host=127.0.0.1 pyspark-shell'\n",
    "from pyspark import SparkContext\n",
    "\n",
    "sc = SparkContext(\"local\", \"article data app\")\n",
    "from pyspark.sql import SQLContext\n",
    "sqlContext = SQLContext(sc)\n"
   ]
  },
  {
   "cell_type": "code",
   "execution_count": 3,
   "metadata": {},
   "outputs": [
    {
     "name": "stdout",
     "output_type": "stream",
     "text": [
      "[Row(year=2019, topics='Politics', entity='donald_trump')]\n"
     ]
    }
   ],
   "source": [
    "entity = []\n",
    "\n",
    "cassDf = sqlContext.read.format(\"org.apache.spark.sql.cassandra\")\\\n",
    ".options(table= \"angular_forms\", keyspace = \"scraped_articles\")\\\n",
    ".load()\\\n",
    ".select('year', 'topics', 'entity')\n",
    "\n",
    "sqlDf = cassDf.registerTempTable('sqlTable')\n",
    "cassDF_byTime = sqlContext.sql('SELECT * FROM sqlTable WHERE year == 2019')\n",
    "\n",
    "words = cassDF_byTime.collect()\n",
    "print(words)"
   ]
  },
  {
   "cell_type": "code",
   "execution_count": null,
   "metadata": {},
   "outputs": [],
   "source": []
  }
 ],
 "metadata": {
  "kernelspec": {
   "display_name": "Python 3",
   "language": "python",
   "name": "python3"
  },
  "language_info": {
   "codemirror_mode": {
    "name": "ipython",
    "version": 3
   },
   "file_extension": ".py",
   "mimetype": "text/x-python",
   "name": "python",
   "nbconvert_exporter": "python",
   "pygments_lexer": "ipython3",
   "version": "3.7.4"
  }
 },
 "nbformat": 4,
 "nbformat_minor": 2
}
